{
 "cells": [
  {
   "cell_type": "code",
   "execution_count": 7,
   "id": "41fd9039",
   "metadata": {},
   "outputs": [
    {
     "name": "stdout",
     "output_type": "stream",
     "text": [
      "My program took 1.0356287956237793 to run\n"
     ]
    }
   ],
   "source": [
    "import pandas as pd\n",
    "import time\n",
    "start_time = time.time()\n",
    "N = 100 \n",
    "with open('housesOutputPy4.txt', 'wt') as outfile:\n",
    "    for i in range(N):\n",
    "        houses = pd.read_csv(\"housesInput.csv\")\n",
    "        outfile.write(houses.describe().to_string(header=True, index=True))\n",
    "        outfile.write(\"\\n\")\n",
    "print(\"My program took\", time.time() - start_time, \"to run\")"
   ]
  },
  {
   "cell_type": "code",
   "execution_count": null,
   "id": "b0a36130",
   "metadata": {},
   "outputs": [],
   "source": []
  }
 ],
 "metadata": {
  "kernelspec": {
   "display_name": "Python 3 (ipykernel)",
   "language": "python",
   "name": "python3"
  },
  "language_info": {
   "codemirror_mode": {
    "name": "ipython",
    "version": 3
   },
   "file_extension": ".py",
   "mimetype": "text/x-python",
   "name": "python",
   "nbconvert_exporter": "python",
   "pygments_lexer": "ipython3",
   "version": "3.11.4"
  }
 },
 "nbformat": 4,
 "nbformat_minor": 5
}
